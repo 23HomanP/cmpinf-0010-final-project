{
 "cells": [
  {
   "cell_type": "markdown",
   "metadata": {},
   "source": [
    "## Introduction\n",
    "\n",
    "**Introduce the project, and your approach, talk about the process of how you came up with the metric and some alternatives you may have explored.**\n",
    "\n",
    "Our analysis focused on identifying the neighborhood that excelled across three key metrics: the lowest number of arrests, the fewest illegal dumping sites, and the highest sidewalk-to-street 'walkability' ratio. We believe that these metrics are the most important factors in identifying the healthiest, safest, and most enjoyable neighborhood to live in. Each team member analyzed a specific data set and ranked neighborhoods accordingly. We then used a straightforward average calculation to rank all of the neighborhoods which enabled us to pinpoint the best neighborhood."
   ]
  },
  {
   "cell_type": "markdown",
   "metadata": {},
   "source": [
    "## The Metric\n",
    "\n",
    "**Describe your metric, and what features are you measuring. What datasets are you using?**\n",
    "\n",
    "**Police Arrest Data -** The metric I am exploring is Pittsburgh Police Arrest Data. The best neighborhood in Pittsburgh must have fewer arrests on average compared to the other neighborhoods.\n",
    "\n",
    "**Allegheny County Illegal Dump Sites -** \n",
    "\n",
    "**Sidewalk to Street \"Walkability\" Ratio -** "
   ]
  },
  {
   "cell_type": "markdown",
   "metadata": {},
   "source": [
    "### The Best Neighborhood\n",
    "\n",
    "**Apply the metric from the previous section to determine the best neighborhood in Pittsburgh. Beyond just executing code, provide a narrative about why you think this is the best neighborhood. Incorporate a data visualization, perhaps to rank all of the neighborhoods or show a neighborhood’s best-ness over time. The key is to make a data driven argument.**\n",
    "\n"
   ]
  },
  {
   "cell_type": "markdown",
   "metadata": {},
   "source": [
    "### Conclusion\n",
    "\n",
    "**Reflect on how the data-driven determination of “best neighborhood” is the same or different from your personal favorite neighborhood. Each member of the group should write their own response to this.**"
   ]
  }
 ],
 "metadata": {
  "kernelspec": {
   "display_name": "Python 3",
   "language": "python",
   "name": "python3"
  },
  "language_info": {
   "codemirror_mode": {
    "name": "ipython",
    "version": 3
   },
   "file_extension": ".py",
   "mimetype": "text/x-python",
   "name": "python",
   "nbconvert_exporter": "python",
   "pygments_lexer": "ipython3",
   "version": "3.8.3"
  }
 },
 "nbformat": 4,
 "nbformat_minor": 4
}
