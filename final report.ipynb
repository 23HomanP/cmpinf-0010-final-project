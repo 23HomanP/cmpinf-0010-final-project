{
 "cells": [
  {
   "cell_type": "markdown",
   "metadata": {},
   "source": [
    "![Wishbone as Sherlock Holmes](images_and_gifs/wishbone.jpg)"
   ]
  },
  {
   "cell_type": "markdown",
   "metadata": {},
   "source": [
    "## **Introduction: 🧑‍💻📊 Burgh Data Detectives Search for the Best Neighborhood in Pittsburgh 🕵️**\n",
    "\n",
    "**Introduce the project, and your approach, talk about the process of how you came up with the metric and some alternatives you may have explored.**\n",
    "\n",
    "Our analysis focused on identifying the neighborhood that excelled across three key metrics:\n",
    "\n",
    "1. the lowest number of arrests ⛓️⬇️\n",
    "2. the fewest illegal dumping sites 🚯🗑️⬇️\n",
    "3. the highest sidewalk-to-street 'walkability' ratio 🚶⬆️\n",
    "    \n",
    "We believe that these metrics are **the most important factors** in identifying the **healthiest, safest, and the most enjoyable neighborhood** to live in. <ins>Each team member</ins> analyzed a specific data set and <ins>ranked neighborhoods accordingly.</ins> We then used a **_straightforward average calculation to rank all of the neighborhoods_** which enabled us to pinpoint the best neighborhood."
   ]
  },
  {
   "cell_type": "markdown",
   "metadata": {},
   "source": [
    "![Photograph of the Three Rivers, downtown Pittsburgh, National Geographic](images_and_gifs/pcpittsburghskyline-with-the-duquesne-inclinecredit-dustin-mcgrewhr_3x2.png)"
   ]
  },
  {
   "cell_type": "markdown",
   "metadata": {},
   "source": [
    "## **🧮 The Metric 📐**\n",
    "\n",
    "**Describe your metric, and what features are you measuring. What datasets are you using?**\n",
    "\n",
    "**Police Arrest Data - (Bridget)** The first metric is <ins>Pittsburgh Police Arrest Data.</ins> The best neighborhood must have <ins>fewer</ins> arrests on average compared to the other neighborhoods.\n",
    "\n",
    "**Allegheny County Illegal Dump Sites - (Paul)** The second metric is <ins>Illegal Dump Sites.</ins> The best neighborhood must have <ins>fewer</ins> illegal dumpsites on average compared to the other neighborhoods.\n",
    "\n",
    "**Sidewalk to Street \"Walkability\" Ratio - (Steven)** The third metric is <ins> Sidewalk to Street \"Walkability\" Ratio.</ins> The best neighborhood must have a <ins>higher</ins> sidewalk to street walkability ratio compared to other neighborhoods."
   ]
  },
  {
   "cell_type": "markdown",
   "metadata": {},
   "source": [
    "## **💯☝️ The Best Neighborhood 🥇**\n",
    "\n",
    "**Apply the metric from the previous section to determine the best neighborhood in Pittsburgh. Beyond just executing code, provide a narrative about why you think this is the best neighborhood. Incorporate a data visualization, perhaps to rank all of the neighborhoods or show a neighborhood’s best-ness over time. The key is to make a data driven argument.**\n",
    "\n"
   ]
  },
  {
   "cell_type": "markdown",
   "metadata": {},
   "source": [
    "## **📝👏 Conclusion 🙇**\n",
    "\n",
    "**Reflect on how the data-driven determination of “best neighborhood” is the same or different from your personal favorite neighborhood. Each member of the group should write their own response to this.**"
   ]
  },
  {
   "cell_type": "markdown",
   "metadata": {},
   "source": [
    "![Pittsburgh Pirates GIF](https://media.giphy.com/media/v1.Y2lkPTc5MGI3NjExM3kxMWhrdWZqajBzcXk3ZnVtYXJ3bHhwNzcwNmhsOTA0OWlxdnEwOSZlcD12MV9pbnRlcm5hbF9naWZfYnlfaWQmY3Q9Zw/iGwd5890587S5JIdJQ/giphy.gif)"
   ]
  }
 ],
 "metadata": {
  "kernelspec": {
   "display_name": "Python 3",
   "language": "python",
   "name": "python3"
  },
  "language_info": {
   "codemirror_mode": {
    "name": "ipython",
    "version": 3
   },
   "file_extension": ".py",
   "mimetype": "text/x-python",
   "name": "python",
   "nbconvert_exporter": "python",
   "pygments_lexer": "ipython3",
   "version": "3.8.3"
  }
 },
 "nbformat": 4,
 "nbformat_minor": 4
}
