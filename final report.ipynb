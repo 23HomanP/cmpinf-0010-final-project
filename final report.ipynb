{
 "cells": [
  {
   "cell_type": "markdown",
   "metadata": {},
   "source": [
    "![Wishbone as Sherlock Holmes](images_and_gifs/wishbone.jpg)"
   ]
  },
  {
   "cell_type": "markdown",
   "metadata": {},
   "source": [
    "## **Introduction: 🧑‍💻📊 Burgh Data Detectives Search for the Best Neighborhood in Pittsburgh 🕵️**\n",
    "\n",
    "**Introduce the project, and your approach, talk about the process of how you came up with the metric and some alternatives you may have explored.**\n",
    "\n",
    "Our analysis focused on identifying the neighborhood that excelled across three key metrics:\n",
    "\n",
    "1. the lowest number of arrests ⛓️⬇️\n",
    "2. the fewest illegal dumping sites 🚯🗑️⬇️\n",
    "3. the highest sidewalk-to-street 'walkability' ratio 🚶⬆️\n",
    "    \n",
    "We believe that these metrics are **the most important factors** in identifying the **healthiest, safest, and the most enjoyable neighborhood** to live in. <ins>Each team member</ins> analyzed a specific data set and <ins>ranked neighborhoods accordingly.</ins> We then used a **_straightforward average calculation to rank all of the neighborhoods_** which enabled us to pinpoint the best neighborhood."
   ]
  },
  {
   "cell_type": "markdown",
   "metadata": {},
   "source": [
    "![Photograph of the Three Rivers, downtown Pittsburgh, National Geographic](images_and_gifs/pcpittsburghskyline-with-the-duquesne-inclinecredit-dustin-mcgrewhr_3x2.png)"
   ]
  },
  {
   "cell_type": "markdown",
   "metadata": {},
   "source": [
    "## **🧮 The Metrics 📐**\n",
    "\n",
    "**Describe your metric, and what features are you measuring. What datasets are you using?**\n",
    "\n",
    "**Police Arrest Data - (Bridget)** The first metric is <ins>Pittsburgh Police Arrest Data.</ins> The best neighborhood must have <ins>fewer</ins> arrests on average compared to the other neighborhoods.\n",
    "\n",
    "**Allegheny County Illegal Dump Sites - (Paul)** The second metric is <ins>Illegal Dump Sites.</ins> The best neighborhood must have <ins>fewer</ins> illegal dumpsites on average compared to the other neighborhoods.\n",
    "\n",
    "**Sidewalk to Street \"Walkability\" Ratio - (Steven)** The third metric is <ins> Sidewalk to Street \"Walkability\" Ratio.</ins> The best neighborhood must have a <ins>higher</ins> sidewalk to street walkability ratio compared to other neighborhoods."
   ]
  },
  {
   "cell_type": "markdown",
   "metadata": {},
   "source": [
    "## **💯☝️ The Best Neighborhood 🥇**\n",
    "\n",
    "**Apply the metric from the previous section to determine the best neighborhood in Pittsburgh. Beyond just executing code, provide a narrative about why you think this is the best neighborhood. Incorporate a data visualization, perhaps to rank all of the neighborhoods or show a neighborhood’s best-ness over time. The key is to make a data driven argument.**\n",
    "\n",
    "**Our Method:**\n",
    "\n",
    "- First, each team member will individually rank all of the neighborhoods from 1st place to nth place (where n is the number of neighborhoods) based on our chosen metrics\n",
    "- Next, the rankings will be combined, and an average ranking will be calculated for each neighborhood\n",
    "- The neighborhood with the highest average ranking (1st place) will be identified as the best neighborhood in Pittsburgh"
   ]
  },
  {
   "cell_type": "markdown",
   "metadata": {},
   "source": [
    "## **The Rankings: 📈** \n",
    "- 🏅1st place neighborhood, to last place neighborhood:"
   ]
  },
  {
   "cell_type": "code",
   "execution_count": 8,
   "metadata": {},
   "outputs": [],
   "source": [
    "# create a dictionary to store the neighborhoods and their rankings, using the neighborhood name as the key\n",
    "# each neighborhood is ranked in order from 1st place to last place based on the 3 metrics\n",
    "# an average will be calculated to find the overall winner\n",
    "\n",
    "shared_rankings = {\n",
    "    'Mt. Oliver Neighborhood': [1, 0, 0],\n",
    "    'Troy Hill-Herrs Island': [2, 0, 0],\n",
    "    'Mt. Oliver Boro': [3, 0, 0],\n",
    "    'Central Northside': [4, 0, 0],\n",
    "    'Ridgemont': [5, 0, 0],\n",
    "    'Regent Square': [6, 0, 0],\n",
    "    'New Homestead': [7, 0, 0],\n",
    "    'Swisshelm Park': [8, 0, 0],\n",
    "    'Chartiers City': [9, 0, 0],\n",
    "    'East Carnegie': [10, 0, 0],\n",
    "    'St. Clair': [11, 0, 0],\n",
    "    'Outside County': [12, 0, 0],\n",
    "    'Outside State': [13, 0, 0],\n",
    "    'Summer Hill': [14, 0, 0],\n",
    "    'Oakwood': [15, 0, 0],\n",
    "    'Golden Triangle/Civic Arena': [16, 0, 0],\n",
    "    'Hays': [17, 0, 0],\n",
    "    'Windgap': [18, 0, 0],\n",
    "    'Mount Oliver': [19, 0, 0],\n",
    "    'Fairywood': [20, 0, 0],\n",
    "    'Allegheny West': [21, 0, 0],\n",
    "    'Arlington Heights': [22, 0, 0],\n",
    "    'Polish Hill': [23, 0, 0],\n",
    "    'Glen Hazel': [24, 0, 0],\n",
    "    'Friendship': [25, 0, 0],\n",
    "    'Morningside': [26, 0, 0],\n",
    "    'Upper Lawrenceville': [27, 0, 0],\n",
    "    'Duquesne Heights': [28, 0, 0],\n",
    "    'Esplen': [29, 0, 0],\n",
    "    'Spring Garden': [30, 0, 0],\n",
    "    'Stanton Heights': [31, 0, 0],\n",
    "    'Westwood': [32, 0, 0],\n",
    "    'Lincoln Place': [33, 0, 0],\n",
    "    'Bon Air': [34, 0, 0],\n",
    "    'Lower Lawrenceville': [35, 0, 0],\n",
    "    'Point Breeze North': [36, 0, 0],\n",
    "    'Squirrel Hill North': [37, 0, 0],\n",
    "    'West End': [38, 0, 0],\n",
    "    'Banksville': [39, 0, 0],\n",
    "    'Terrace Village': [40, 0, 0],\n",
    "    'Point Breeze': [41, 0, 0],\n",
    "    'South Shore': [42, 0, 0],\n",
    "    'Arlington': [43, 0, 0],\n",
    "    'California-Kirkbride': [44, 0, 0],\n",
    "    'Outside City': [45, 0, 0],\n",
    "    'West Oakland': [46, 0, 0],\n",
    "    'Overbrook': [47, 0, 0],\n",
    "    'South Oakland': [48, 0, 0],\n",
    "    'Upper Hill': [49, 0, 0],\n",
    "    'Central Lawrenceville': [50, 0, 0],\n",
    "    'Troy Hill': [51, 0, 0],\n",
    "    'Chateau': [52, 0, 0],\n",
    "    'North Oakland': [53, 0, 0],\n",
    "    'Manchester': [54, 0, 0],\n",
    "    'Beltzhoover': [55, 0, 0],\n",
    "    'Strip District': [56, 0, 0],\n",
    "    'Central Oakland': [57, 0, 0],\n",
    "    'Greenfield': [58, 0, 0],\n",
    "    'Highland Park': [59, 0, 0],\n",
    "    'Perry North': [60, 0, 0],\n",
    "    'Crafton Heights': [61, 0, 0],\n",
    "    'Elliott': [62, 0, 0],\n",
    "    'Bedford Dwellings': [63, 0, 0],\n",
    "    'Spring Hill-City View': [64, 0, 0],\n",
    "    'Northview Heights': [65, 0, 0],\n",
    "    'Garfield': [66, 0, 0],\n",
    "    'Homewood West': [67, 0, 0],\n",
    "    'Fineview': [68, 0, 0],\n",
    "    'South Side Slopes': [69, 0, 0],\n",
    "    'Squirrel Hill South': [70, 0, 0],\n",
    "    'North Shore': [71, 0, 0],\n",
    "    'Crawford-Roberts': [72, 0, 0],\n",
    "    'Central North Side': [73, 0, 0],\n",
    "    'Larimer': [74, 0, 0],\n",
    "    'Middle Hill': [75, 0, 0],\n",
    "    'Allentown': [76, 0, 0],\n",
    "    'Shadyside': [77, 0, 0],\n",
    "    'Bloomfield': [78, 0, 0],\n",
    "    'Perry South': [79, 0, 0],\n",
    "    'Brighton Heights': [80, 0, 0],\n",
    "    'East Hills': [81, 0, 0],\n",
    "    'Beechview': [82, 0, 0],\n",
    "    'Allegheny Center': [83, 0, 0],\n",
    "    'Sheraden': [84, 0, 0],\n",
    "    'Knoxville': [85, 0, 0],\n",
    "    'Lincoln-Lemington-Belmar': [86, 0, 0],\n",
    "    'Brookline': [87, 0, 0],\n",
    "    'Hazelwood': [88, 0, 0],\n",
    "    'Mount Washington': [89, 0, 0],\n",
    "    'Bluff': [90, 0, 0],\n",
    "    'Marshall-Shadeland': [91, 0, 0],\n",
    "    'East Liberty': [92, 0, 0],\n",
    "    'Homewood North': [93, 0, 0],\n",
    "    'Homewood South': [94, 0, 0],\n",
    "    'East Allegheny': [95, 0, 0],\n",
    "    'Carrick': [96, 0, 0],\n",
    "    'South Side Flats': [97, 0, 0],\n",
    "    'Central Business District': [98, 0, 0]\n",
    "}"
   ]
  },
  {
   "cell_type": "markdown",
   "metadata": {},
   "source": [
    "## **📝👏 Conclusion 🙇**\n",
    "\n",
    "**Reflect on how the data-driven determination of “best neighborhood” is the same or different from your personal favorite neighborhood. Each member of the group should write their own response to this.**"
   ]
  },
  {
   "cell_type": "markdown",
   "metadata": {},
   "source": [
    "![Pittsburgh Pirates GIF](https://media.giphy.com/media/v1.Y2lkPTc5MGI3NjExM3kxMWhrdWZqajBzcXk3ZnVtYXJ3bHhwNzcwNmhsOTA0OWlxdnEwOSZlcD12MV9pbnRlcm5hbF9naWZfYnlfaWQmY3Q9Zw/iGwd5890587S5JIdJQ/giphy.gif)"
   ]
  }
 ],
 "metadata": {
  "kernelspec": {
   "display_name": "Python 3",
   "language": "python",
   "name": "python3"
  },
  "language_info": {
   "codemirror_mode": {
    "name": "ipython",
    "version": 3
   },
   "file_extension": ".py",
   "mimetype": "text/x-python",
   "name": "python",
   "nbconvert_exporter": "python",
   "pygments_lexer": "ipython3",
   "version": "3.8.3"
  }
 },
 "nbformat": 4,
 "nbformat_minor": 4
}
